{
 "cells": [
  {
   "cell_type": "code",
   "execution_count": null,
   "id": "afb6d162",
   "metadata": {},
   "outputs": [],
   "source": [
    "# adapted from https://nn.labml.ai/diffusion/ddpm/index.html\n",
    "\n"
   ]
  },
  {
   "cell_type": "markdown",
   "id": "6a914ecb",
   "metadata": {},
   "source": [
    "# Overview"
   ]
  },
  {
   "cell_type": "markdown",
   "id": "677a1da6",
   "metadata": {},
   "source": [
    "\n",
    "1. implementing the forward process \n",
    "    a. designing a noise schedule and,\n",
    "    b. noising samples from the training data\n",
    "2. implementing the loss\n",
    "3. sampling from the model"
   ]
  },
  {
   "cell_type": "markdown",
   "id": "ea4b876d",
   "metadata": {},
   "source": [
    "# Setup"
   ]
  },
  {
   "cell_type": "markdown",
   "id": "573d655d",
   "metadata": {},
   "source": [
    "# Exercises"
   ]
  },
  {
   "cell_type": "markdown",
   "id": "c643abff",
   "metadata": {},
   "source": [
    "#"
   ]
  },
  {
   "cell_type": "markdown",
   "id": "49211d5f",
   "metadata": {},
   "source": [
    "The forward process adds noise to the data $x_0 \\sim q(x_0)$, for $T$ timesteps.\n",
    "\n",
    "\\begin{align}\n",
    "q(x_t | x_{t-1}) = \\mathcal{N}\\big(x_t; \\sqrt{1-  \\beta_t} x_{t-1}, \\beta_t \\mathbf{I}\\big) \\\\\n",
    "q(x_{1:T} | x_0) = \\prod_{t = 1}^{T} q(x_t | x_{t-1})\n",
    "\\end{align}\n",
    "\n",
    "where $\\beta_1, \\dots, \\beta_T$ is the variance schedule.\n",
    "\n",
    "We can sample $x_t$ at any timestep $t$ with,\n",
    "\n",
    "\\begin{align}\n",
    "q(x_t|x_0) &= \\mathcal{N} \\Big(x_t; \\sqrt{\\bar\\alpha_t} x_0, (1-\\bar\\alpha_t) \\mathbf{I} \\Big)\n",
    "\\end{align}\n",
    "\n",
    "where $\\alpha_t = 1 - \\beta_t$ and $\\bar\\alpha_t = \\prod_{s=1}^t \\alpha_s$"
   ]
  },
  {
   "cell_type": "markdown",
   "id": "58004160",
   "metadata": {},
   "source": [
    "## Exercise 1a: implement the noise schedule"
   ]
  },
  {
   "cell_type": "markdown",
   "id": "823d9081",
   "metadata": {},
   "source": [
    "First, we need to compute alpha and beta for all timesteps."
   ]
  },
  {
   "cell_type": "code",
   "execution_count": null,
   "id": "db2ed4dd",
   "metadata": {},
   "outputs": [],
   "source": []
  },
  {
   "cell_type": "markdown",
   "id": "5b08e6a8",
   "metadata": {},
   "source": [
    "### Plot the noise overtime"
   ]
  },
  {
   "cell_type": "markdown",
   "id": "781d3f0d",
   "metadata": {},
   "source": [
    "## Exercise 1b: sample from the forward process (noise the images)"
   ]
  },
  {
   "cell_type": "code",
   "execution_count": null,
   "id": "ec8fb5db",
   "metadata": {},
   "outputs": [],
   "source": []
  },
  {
   "cell_type": "markdown",
   "id": "b010ae08",
   "metadata": {},
   "source": [
    "### Plot the noised samples over time"
   ]
  },
  {
   "cell_type": "markdown",
   "id": "1c87394d",
   "metadata": {},
   "source": [
    "## Exercise 2: implement the loss"
   ]
  },
  {
   "cell_type": "code",
   "execution_count": null,
   "id": "af18d56f",
   "metadata": {},
   "outputs": [],
   "source": []
  },
  {
   "cell_type": "markdown",
   "id": "9f1537fe",
   "metadata": {},
   "source": [
    "## Exercise 3: generate samples (backwards process)"
   ]
  },
  {
   "cell_type": "code",
   "execution_count": null,
   "id": "9901b490",
   "metadata": {},
   "outputs": [],
   "source": []
  },
  {
   "cell_type": "markdown",
   "id": "d3198832",
   "metadata": {},
   "source": [
    "## Exercise 4: visualize sampling"
   ]
  },
  {
   "cell_type": "code",
   "execution_count": null,
   "id": "3d448419",
   "metadata": {},
   "outputs": [],
   "source": [
    "from IPython.display import HTML\n",
    "import matplotlib.pyplot as plt\n",
    "\n",
    "\n",
    "def visualize_sampling(X_noise):\n",
    "    interval = 5\n",
    "    every_nth_image = 2\n",
    "    f = plt.figure()\n",
    "    plt.axis(\"off\")\n",
    "    im = plt.imshow(X_noise[0][0, 0].cpu().detach(), cmap=\"gray\", vmin=0, vmax=1)\n",
    "\n",
    "    def update(i):\n",
    "        raise NotImplementedError(\n",
    "            \"This function is not implemented. Please implement the update function to visualize the images.\"\n",
    "        )\n",
    "\n",
    "    anim = animation.FuncAnimation(\n",
    "        f,\n",
    "        update,\n",
    "        frames=np.arange(0, int(len(X_noise) * 1.2), every_nth_image),\n",
    "        interval=1,\n",
    "        repeat=True,\n",
    "        blit=True,\n",
    "    )\n",
    "    anim.save(\"generation.gif\", writer=\"pillow\")\n",
    "\n",
    "\n",
    "HTML('<img src=\"generation.gif\" width=\"400\">')"
   ]
  }
 ],
 "metadata": {
  "language_info": {
   "name": "python"
  }
 },
 "nbformat": 4,
 "nbformat_minor": 5
}
